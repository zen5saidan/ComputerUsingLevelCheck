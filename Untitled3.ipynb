{
  "nbformat": 4,
  "nbformat_minor": 0,
  "metadata": {
    "colab": {
      "name": "Untitled3.ipynb",
      "provenance": [],
      "collapsed_sections": [],
      "authorship_tag": "ABX9TyO6KF8qwZoC1qoqcSVSCSdA",
      "include_colab_link": true
    },
    "kernelspec": {
      "name": "python3",
      "display_name": "Python 3"
    },
    "language_info": {
      "name": "python"
    }
  },
  "cells": [
    {
      "cell_type": "markdown",
      "metadata": {
        "id": "view-in-github",
        "colab_type": "text"
      },
      "source": [
        "<a href=\"https://colab.research.google.com/github/zen5saidan/ComputerUsingLevelCheck/blob/main/Untitled3.ipynb\" target=\"_parent\"><img src=\"https://colab.research.google.com/assets/colab-badge.svg\" alt=\"Open In Colab\"/></a>"
      ]
    },
    {
      "cell_type": "code",
      "metadata": {
        "colab": {
          "base_uri": "https://localhost:8080/"
        },
        "id": "V3yWAXrkF6Pa",
        "outputId": "468a1ca0-79db-4d25-eb34-99f22c453111"
      },
      "source": [
        "import requests\n",
        "import bs4\n",
        "#url = \"https://info.finance.yahoo.co.jp/ranking/?kd=1&tm=d&mk=1\"\n",
        "#url = \"https://info.finance.yahoo.co.jp/ranking/?kd=1&mk=3&tm=d&vl=a\"\n",
        "url = \"https://www.keishicho.metro.tokyo.jp/about_mpd/jokyo_tokei/kakushu/dv.html\"\n",
        "req = requests.get(url)\n",
        "data = bs4.BeautifulSoup(req.content, \"html.parser\")\n",
        "#data = bs4.BeautifulSoup(req.text, \"html.parser\")\n",
        "index = data.find('table')\n",
        "listText = index.getText()\n",
        "print(listText)"
      ],
      "execution_count": 4,
      "outputs": [
        {
          "output_type": "stream",
          "text": [
            "\n",
            "\n",
            " \n",
            "平成28年\n",
            "平成29年\n",
            "平成30年\n",
            "令和元年\n",
            "令和2年\n",
            "\n",
            "\n",
            "女性\n",
            "5,866\n",
            "7,005\n",
            "7,471\n",
            "6,775\n",
            "6,827\n",
            "\n",
            "\n",
            "男性\n",
            "953\n",
            "1,416\n",
            "1,571\n",
            "1,660\n",
            "1,800\n",
            "\n",
            "\n",
            "総計\n",
            "6,819\n",
            "8,421\n",
            "9,042\n",
            "8,435\n",
            "8,627\n",
            "\n",
            "\n"
          ],
          "name": "stdout"
        }
      ]
    },
    {
      "cell_type": "code",
      "metadata": {
        "id": "ruSpz42QJNQ7"
      },
      "source": [
        ""
      ],
      "execution_count": null,
      "outputs": []
    }
  ]
}